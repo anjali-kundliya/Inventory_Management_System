{
 "cells": [
  {
   "cell_type": "code",
   "execution_count": 4,
   "id": "ecccf209",
   "metadata": {},
   "outputs": [],
   "source": [
    "record={2020306:{\"name\":\"anjali\",\"pno\":1234,\"cgpa\":7.8},\n",
    "        2020307:{\"name\":\"ayushi\",\"pno\":5678,\"cgpa\":8.9},\n",
    "        2020308:{\"name\":\"ashu\",\"pno\":4589,\"cgpa\":7.9},}"
   ]
  },
  {
   "cell_type": "code",
   "execution_count": 2,
   "id": "e8c0c7a8",
   "metadata": {},
   "outputs": [],
   "source": [
    "record={2020306:\"anjali\",\n",
    "        2020308:\"ayushi\",\n",
    "        2020307:\"ashu\"}"
   ]
  },
  {
   "cell_type": "code",
   "execution_count": 5,
   "id": "d4e7746d",
   "metadata": {},
   "outputs": [
    {
     "data": {
      "text/plain": [
       "{'name': 'ashu', 'pno': 4589, 'cgpa': 7.9}"
      ]
     },
     "execution_count": 5,
     "metadata": {},
     "output_type": "execute_result"
    }
   ],
   "source": [
    "record[2020308]"
   ]
  },
  {
   "cell_type": "code",
   "execution_count": 6,
   "id": "5d3f4c15",
   "metadata": {},
   "outputs": [
    {
     "data": {
      "text/plain": [
       "'anjali'"
      ]
     },
     "execution_count": 6,
     "metadata": {},
     "output_type": "execute_result"
    }
   ],
   "source": [
    "record[2020306][\"name\"]"
   ]
  },
  {
   "cell_type": "code",
   "execution_count": 8,
   "id": "ef31a873",
   "metadata": {},
   "outputs": [
    {
     "name": "stdout",
     "output_type": "stream",
     "text": [
      "ayushi\n",
      "5678\n",
      "8.9\n"
     ]
    }
   ],
   "source": [
    "reg=2020307\n",
    "print(record[reg][\"name\"])\n",
    "print(record[reg][\"pno\"])\n",
    "print(record[reg][\"cgpa\"])"
   ]
  },
  {
   "cell_type": "code",
   "execution_count": 9,
   "id": "33ad8946",
   "metadata": {},
   "outputs": [
    {
     "data": {
      "text/plain": [
       "1234"
      ]
     },
     "execution_count": 9,
     "metadata": {},
     "output_type": "execute_result"
    }
   ],
   "source": [
    "record[2020306][\"pno\"]"
   ]
  },
  {
   "cell_type": "code",
   "execution_count": 10,
   "id": "c25788e9",
   "metadata": {},
   "outputs": [],
   "source": [
    "record[2020306][\"pno\"]=9876"
   ]
  },
  {
   "cell_type": "code",
   "execution_count": 11,
   "id": "0b900b67",
   "metadata": {},
   "outputs": [
    {
     "data": {
      "text/plain": [
       "{2020306: {'name': 'anjali', 'pno': 9876, 'cgpa': 7.8},\n",
       " 2020307: {'name': 'ayushi', 'pno': 5678, 'cgpa': 8.9},\n",
       " 2020308: {'name': 'ashu', 'pno': 4589, 'cgpa': 7.9}}"
      ]
     },
     "execution_count": 11,
     "metadata": {},
     "output_type": "execute_result"
    }
   ],
   "source": [
    "record"
   ]
  },
  {
   "cell_type": "code",
   "execution_count": 12,
   "id": "cb73de6f",
   "metadata": {},
   "outputs": [],
   "source": [
    "import json"
   ]
  },
  {
   "cell_type": "code",
   "execution_count": 13,
   "id": "3e01941a",
   "metadata": {},
   "outputs": [],
   "source": [
    "js=json.dumps(record)"
   ]
  },
  {
   "cell_type": "code",
   "execution_count": 14,
   "id": "25cbad68",
   "metadata": {},
   "outputs": [
    {
     "data": {
      "text/plain": [
       "'{\"2020306\": {\"name\": \"anjali\", \"pno\": 9876, \"cgpa\": 7.8}, \"2020307\": {\"name\": \"ayushi\", \"pno\": 5678, \"cgpa\": 8.9}, \"2020308\": {\"name\": \"ashu\", \"pno\": 4589, \"cgpa\": 7.9}}'"
      ]
     },
     "execution_count": 14,
     "metadata": {},
     "output_type": "execute_result"
    }
   ],
   "source": [
    "js"
   ]
  },
  {
   "cell_type": "code",
   "execution_count": 15,
   "id": "b93e7a32",
   "metadata": {},
   "outputs": [
    {
     "data": {
      "text/plain": [
       "str"
      ]
     },
     "execution_count": 15,
     "metadata": {},
     "output_type": "execute_result"
    }
   ],
   "source": [
    "type(js)"
   ]
  },
  {
   "cell_type": "code",
   "execution_count": 16,
   "id": "ff085fa5",
   "metadata": {},
   "outputs": [
    {
     "data": {
      "text/plain": [
       "dict"
      ]
     },
     "execution_count": 16,
     "metadata": {},
     "output_type": "execute_result"
    }
   ],
   "source": [
    "type(record)"
   ]
  },
  {
   "cell_type": "code",
   "execution_count": 18,
   "id": "1c40ed48",
   "metadata": {},
   "outputs": [],
   "source": [
    "fd=open(\"record.json\",\"w\")\n",
    "fd.write(js)\n",
    "fd.close()"
   ]
  },
  {
   "cell_type": "code",
   "execution_count": 19,
   "id": "8b03fda6",
   "metadata": {},
   "outputs": [
    {
     "data": {
      "text/plain": [
       "{2020306: {'name': 'anjali', 'pno': 9876, 'cgpa': 7.8},\n",
       " 2020307: {'name': 'ayushi', 'pno': 5678, 'cgpa': 8.9},\n",
       " 2020308: {'name': 'ashu', 'pno': 4589, 'cgpa': 7.9}}"
      ]
     },
     "execution_count": 19,
     "metadata": {},
     "output_type": "execute_result"
    }
   ],
   "source": [
    "record"
   ]
  },
  {
   "cell_type": "code",
   "execution_count": 20,
   "id": "edecf489",
   "metadata": {},
   "outputs": [],
   "source": [
    "fd=open(\"record.json\",\"r\")\n",
    "txt=fd.read()\n",
    "fd.close()"
   ]
  },
  {
   "cell_type": "code",
   "execution_count": 21,
   "id": "154fa2a2",
   "metadata": {},
   "outputs": [],
   "source": [
    "record=json.loads(txt)"
   ]
  },
  {
   "cell_type": "code",
   "execution_count": 22,
   "id": "3f28e302",
   "metadata": {},
   "outputs": [
    {
     "data": {
      "text/plain": [
       "'{\"2020306\": {\"name\": \"anjali\", \"pno\": 9876, \"cgpa\": 7.8}, \"2020307\": {\"name\": \"ayushi\", \"pno\": 5678, \"cgpa\": 8.9}, \"2020308\": {\"name\": \"ashu\", \"pno\": 4589, \"cgpa\": 7.9}}'"
      ]
     },
     "execution_count": 22,
     "metadata": {},
     "output_type": "execute_result"
    }
   ],
   "source": [
    "txt"
   ]
  },
  {
   "cell_type": "code",
   "execution_count": 23,
   "id": "f0a75298",
   "metadata": {},
   "outputs": [],
   "source": [
    "import time"
   ]
  },
  {
   "cell_type": "code",
   "execution_count": 24,
   "id": "6baa3922",
   "metadata": {},
   "outputs": [
    {
     "data": {
      "text/plain": [
       "'Tue Sep  7 16:44:44 2021'"
      ]
     },
     "execution_count": 24,
     "metadata": {},
     "output_type": "execute_result"
    }
   ],
   "source": [
    "time.ctime()"
   ]
  },
  {
   "cell_type": "code",
   "execution_count": null,
   "id": "0825790b",
   "metadata": {},
   "outputs": [],
   "source": []
  }
 ],
 "metadata": {
  "kernelspec": {
   "display_name": "Python 3",
   "language": "python",
   "name": "python3"
  },
  "language_info": {
   "codemirror_mode": {
    "name": "ipython",
    "version": 3
   },
   "file_extension": ".py",
   "mimetype": "text/x-python",
   "name": "python",
   "nbconvert_exporter": "python",
   "pygments_lexer": "ipython3",
   "version": "3.8.8"
  }
 },
 "nbformat": 4,
 "nbformat_minor": 5
}
