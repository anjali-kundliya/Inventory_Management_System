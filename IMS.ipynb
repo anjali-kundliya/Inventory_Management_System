{
 "cells": [
  {
   "cell_type": "code",
   "execution_count": 1,
   "id": "770c4268",
   "metadata": {},
   "outputs": [],
   "source": [
    "fd= open(\"IMS_Records.txt\",\"r\")\n",
    "txt=fd.read()\n",
    "fd.close()"
   ]
  },
  {
   "cell_type": "code",
   "execution_count": 2,
   "id": "204e64e0",
   "metadata": {},
   "outputs": [
    {
     "data": {
      "text/plain": [
       "'1000, Drinks,45,95\\n1002,Cake,300,7\\n1003,Chocolate,10,40'"
      ]
     },
     "execution_count": 2,
     "metadata": {},
     "output_type": "execute_result"
    }
   ],
   "source": [
    "str(txt)"
   ]
  },
  {
   "cell_type": "code",
   "execution_count": 4,
   "id": "5bdad529",
   "metadata": {},
   "outputs": [],
   "source": [
    "product=txt.split(\"\\n\")"
   ]
  },
  {
   "cell_type": "code",
   "execution_count": 7,
   "id": "b9f6e3f3",
   "metadata": {},
   "outputs": [
    {
     "name": "stdout",
     "output_type": "stream",
     "text": [
      "1000, Drinks,45,95\n",
      "1002,Cake,300,7\n",
      "1003,Chocolate,10,40\n"
     ]
    }
   ],
   "source": [
    "for i in product:\n",
    "    print(i)"
   ]
  },
  {
   "cell_type": "code",
   "execution_count": 8,
   "id": "f416312e",
   "metadata": {},
   "outputs": [
    {
     "name": "stdout",
     "output_type": "stream",
     "text": [
      "1000\n",
      " Drinks\n",
      "45\n",
      "95\n",
      "1002\n",
      "Cake\n",
      "300\n",
      "7\n",
      "1003\n",
      "Chocolate\n",
      "10\n",
      "40\n"
     ]
    }
   ],
   "source": [
    "for i in product:\n",
    "    prod=i.split(\",\")\n",
    "    \n",
    "    print(prod[0])\n",
    "    print(prod[1])\n",
    "    print(prod[2])\n",
    "    print(prod[3])"
   ]
  },
  {
   "cell_type": "code",
   "execution_count": 10,
   "id": "d4b4b5c9",
   "metadata": {},
   "outputs": [
    {
     "name": "stdout",
     "output_type": "stream",
     "text": [
      "Enter product id: 1000\n",
      "Enter quantity: 45\n",
      "Product ID:  1000\n",
      "Name:   Drinks\n",
      "Price:  45\n"
     ]
    }
   ],
   "source": [
    "ui_prod=str(input(\"Enter product id: \"))\n",
    "ui_quant=input(\"Enter quantity: \")\n",
    "for i in product:\n",
    "    prod=i.split(\",\")\n",
    "    \n",
    "    if(ui_prod==prod[0]):\n",
    "        print(\"Product ID: \",prod[0])\n",
    "        print(\"Name: \",prod[1])\n",
    "        print(\"Price: \",prod[2])"
   ]
  },
  {
   "cell_type": "code",
   "execution_count": null,
   "id": "6097e997",
   "metadata": {},
   "outputs": [],
   "source": []
  }
 ],
 "metadata": {
  "kernelspec": {
   "display_name": "Python 3",
   "language": "python",
   "name": "python3"
  },
  "language_info": {
   "codemirror_mode": {
    "name": "ipython",
    "version": 3
   },
   "file_extension": ".py",
   "mimetype": "text/x-python",
   "name": "python",
   "nbconvert_exporter": "python",
   "pygments_lexer": "ipython3",
   "version": "3.8.8"
  }
 },
 "nbformat": 4,
 "nbformat_minor": 5
}
