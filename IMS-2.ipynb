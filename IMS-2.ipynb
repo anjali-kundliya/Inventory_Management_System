{
 "cells": [
  {
   "cell_type": "code",
   "execution_count": 8,
   "id": "4d735a33",
   "metadata": {},
   "outputs": [],
   "source": [
    "fd= open(\"IMS_Records.txt\",\"r\")\n",
    "txt=fd.read()\n",
    "fd.close()"
   ]
  },
  {
   "cell_type": "code",
   "execution_count": 14,
   "id": "b042849c",
   "metadata": {},
   "outputs": [
    {
     "name": "stdout",
     "output_type": "stream",
     "text": [
      "Enter product id: 1003\n",
      "Enter quantity: 2\n",
      "Product ID:  1003\n",
      "Name:  Chocolate\n",
      "Price:  10\n",
      "Quantity:  2\n",
      "Billing Amount:  20\n"
     ]
    }
   ],
   "source": [
    "product=txt.split(\"\\n\")\n",
    "ui_prod=str(input(\"Enter product id: \"))\n",
    "ui_quant=int(input(\"Enter quantity: \"))\n",
    "for i in product:\n",
    "    prod=i.split(\",\")\n",
    "    \n",
    "    if(ui_prod==prod[0]):\n",
    "        print(\"Product ID: \",prod[0])\n",
    "        print(\"Name: \",prod[1])\n",
    "        print(\"Price: \",prod[2])\n",
    "        print(\"Quantity: \",ui_quant)\n",
    "        print(\"Billing Amount: \",ui_quant*int (prod[2]))"
   ]
  },
  {
   "cell_type": "code",
   "execution_count": 15,
   "id": "5b985a50",
   "metadata": {},
   "outputs": [],
   "source": [
    "new_record=[]\n",
    "for products in product:\n",
    "    prod=products.split(\",\")\n",
    "    if(ui_prod==prod[0]):\n",
    "        prod[3]=str(int(prod[3])-ui_quant)\n",
    "    new_record.append(prod[0] + \",\" + prod[1] + \",\" + prod[2] + \",\" + prod[3]+ \"\\n\")\n",
    "new_record[-1]=new_record[-1][:-1]"
   ]
  },
  {
   "cell_type": "code",
   "execution_count": 19,
   "id": "cad70b19",
   "metadata": {},
   "outputs": [
    {
     "data": {
      "text/plain": [
       "'1003,Chocolate,10,38'"
      ]
     },
     "execution_count": 19,
     "metadata": {},
     "output_type": "execute_result"
    }
   ],
   "source": [
    "products"
   ]
  },
  {
   "cell_type": "code",
   "execution_count": 20,
   "id": "0f10a8e6",
   "metadata": {},
   "outputs": [],
   "source": [
    "fd=open(\"IMS_Records.txt\",\"w\")\n",
    "for i in new_record:\n",
    "    fd.write(i)\n",
    "fd.close()"
   ]
  },
  {
   "cell_type": "code",
   "execution_count": 21,
   "id": "adb99541",
   "metadata": {},
   "outputs": [
    {
     "data": {
      "text/plain": [
       "['1000, Drinks,45,95\\n', '1002,Cake,300,7\\n', '1003,Chocolate,10,36']"
      ]
     },
     "execution_count": 21,
     "metadata": {},
     "output_type": "execute_result"
    }
   ],
   "source": [
    "new_record"
   ]
  },
  {
   "cell_type": "code",
   "execution_count": 22,
   "id": "9aa4a448",
   "metadata": {},
   "outputs": [],
   "source": [
    "fd= open(\"IMS_Records.txt\",\"w\")\n",
    "for i in new_record:\n",
    "    fd.write(i)"
   ]
  },
  {
   "cell_type": "code",
   "execution_count": null,
   "id": "f4140e84",
   "metadata": {},
   "outputs": [],
   "source": []
  }
 ],
 "metadata": {
  "kernelspec": {
   "display_name": "Python 3",
   "language": "python",
   "name": "python3"
  },
  "language_info": {
   "codemirror_mode": {
    "name": "ipython",
    "version": 3
   },
   "file_extension": ".py",
   "mimetype": "text/x-python",
   "name": "python",
   "nbconvert_exporter": "python",
   "pygments_lexer": "ipython3",
   "version": "3.8.8"
  }
 },
 "nbformat": 4,
 "nbformat_minor": 5
}
